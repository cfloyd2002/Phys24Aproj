{
 "cells": [
  {
   "cell_type": "code",
   "execution_count": null,
   "metadata": {
    "ExecuteTime": {
     "end_time": "2022-03-03T21:32:06.375667Z",
     "start_time": "2022-03-03T21:32:05.444695Z"
    },
    "execution": {
     "iopub.execute_input": "2022-03-03T19:14:58.159522Z",
     "iopub.status.busy": "2022-03-03T19:14:58.158879Z",
     "iopub.status.idle": "2022-03-03T19:14:59.249524Z",
     "shell.execute_reply": "2022-03-03T19:14:59.249241Z",
     "shell.execute_reply.started": "2022-03-03T19:14:58.159313Z"
    },
    "tags": []
   },
   "outputs": [],
   "source": [
    "%matplotlib notebook\n",
    "%load_ext autoreload\n",
    "%autoreload 2\n",
    "import numpy as np\n",
    "import matplotlib.pyplot as plt\n",
    "from matplotlib.patches import Rectangle, Circle, ConnectionPatch\n",
    "from p24asolver import P24ASolver"
   ]
  },
  {
   "cell_type": "code",
   "execution_count": null,
   "metadata": {},
   "outputs": [],
   "source": [
    "MASS_RADIUS = 0.2 #the radius of the mass in the drawing\n",
    "DRIVER_RADIUS = 0.1 #the radius of the driver in the drawing\n",
    "ANIMATE_360 = False #true = driver at center of animation; false = driver at bottom of animation"
   ]
  },
  {
   "cell_type": "code",
   "execution_count": null,
   "metadata": {
    "ExecuteTime": {
     "end_time": "2022-03-03T21:33:44.687606Z",
     "start_time": "2022-03-03T21:33:44.485691Z"
    },
    "scrolled": false
   },
   "outputs": [],
   "source": [
    "class InvPend(P24ASolver):\n",
    "    \"\"\"\n",
    "    Simulate a system of upside down vertical driven pendulum\n",
    "    \"\"\"\n",
    "    \n",
    "    #  constants used for animating\n",
    "    \n",
    "    def __init__(self, **kwargs):\n",
    "        \"\"\"\n",
    "        Note that we need to call the __init__ method of P24ASolver with a list of\n",
    "        variable names. The first string in each variable tuple is the variable name, which you can use to\n",
    "        refer to the variable, the second is a LaTeX representation that will look nice on a plot.\n",
    "        \"\"\"\n",
    "        super().__init__( ( ('theta', '$theta$'), ('thetaD', r'$\\dot{theta}_1$') ) )\n",
    "        # Now store variables, using defaults, if necessary\n",
    "\n",
    "        # theta (no dot, double dot)\n",
    "        # angular frequency of the vertical drive\n",
    "        # A - amplitude of the vertical drive\n",
    "        # m - the mass of what is being swung\n",
    "        # l - length of pendulum\n",
    "        self.theta = kwargs.get('theta', 0)\n",
    "        self.thetaD = kwargs.get('thetaD', 0)\n",
    "        self.thetaDD = kwargs.get('thetaDD', 0.0)\n",
    "        self.A = kwargs.get('A', 1)\n",
    "        self.m = kwargs.get('m', 5.0)\n",
    "        self.l = kwargs.get('l', 10.0)\n",
    "        self.rtol = kwargs.get('rtol', 1e-10)\n",
    "        self.atol = kwargs.get('atol', 1e-10)\n",
    "        self.g = kwargs.get('g', 9.81) #note that g here is supposed to be positive!\n",
    "\n",
    "        self.w = kwargs.get('omega', 100.0)\n",
    "\n",
    "#    def __str__(self):\n",
    "#        \"Produce a string representation of the parameters\"\n",
    "#        fmt = r\"$\\mu = {0:.2g}, D = {1:.2g}, \\zeta_1 = {2:.2g}, \\zeta_2 = {3:.2g}$\"\n",
    "#        return fmt.format(self.μ, self.D, self.ζ1, self.ζ2)\n",
    "\n",
    "    def derivatives(self, t, list_Values):\n",
    "        theta, thetaD = list_Values  # unpack the values\n",
    "        thetaDD = (self.g-self.A*(self.w**2)*np.sin(self.w*t))*np.sin(theta)/(self.l)\n",
    "        return [thetaD, thetaDD]\n",
    "    \n",
    "    def prepare_figure(self): # what gets called before everything in the animation\n",
    "        # sets up the set of axes and the data series you'll update from frame to frame\n",
    "        \"\"\"\n",
    "        Function that creates the figure and axes for the animation.\n",
    "        \"\"\"\n",
    "\n",
    "        # plt.subplots\n",
    "          # for animations, we msut have set_xlim and set_ylim, because otherwise the computer\n",
    "            # tries doing it automatically\n",
    "\n",
    "        fig, ax = plt.subplots(figsize=(6, 6))\n",
    "        # We need to set the axes limits so each frame uses the same limits\n",
    "        # I'll say that the center position of the first mass is at 2 and the second at 4\n",
    "        if ANIMATE_360:\n",
    "            ax.set_xlim((-(self.l*1.1 + self.A), self.l*1.1 + 2*self.A))\n",
    "            ax.set_ylim((-(self.l*1.1 + self.A), self.l*1.1 + 2*self.A))\n",
    "        else:\n",
    "            ax.set_xlim((-6, 6))\n",
    "            ax.set_ylim((-1, 11))\n",
    "            \n",
    "\n",
    "        # two data series that have no data; \n",
    "          # 'k-' = black line\n",
    "          # there is no data, empty for x and y; when you call plot,\n",
    "            # it returns two things, but Saeta only wanted to save the\n",
    "            # first value\n",
    "            # hence he made two of those things\n",
    "        self.lines = [ax.plot([], [], 'k-')[0] for n in range(3)]\n",
    "        # a rectangle that slides back and forth\n",
    "          # red color\n",
    "        self.parts = [Circle((3, 10), radius=MASS_RADIUS, color='r')] #the pendulum\n",
    "        # shows where the drive into the spring is going to be oscillating\n",
    "          # back and forth - 'g' is green\n",
    "        self.parts.append(Circle((0, 0), radius=DRIVER_RADIUS, color='g')) #the driver\n",
    "        # add a patch: the function call to carts makes an object, doesn't\n",
    "          # associate with axes; doing this forloop makes sure the object\n",
    "          # is associated with axes in the right way\n",
    "        for c in self.parts:\n",
    "            ax.add_patch(c)\n",
    "            \n",
    "        return fig, ax\n",
    "\n",
    "        # lay ground work\n",
    "        # prepare figure\n",
    "        # place figure in the frame\n",
    "          # figures will be stored in class object\n",
    "        # bare minimum; subplots\n",
    "        # at least one data series to update for each frame\n",
    "          # make them a list; return the figure and the axes\n",
    "\n",
    "\n",
    "    def plot_thetaDot(self):\n",
    "      \" a function that plots theta dot over time \"\n",
    "      # takes thetaDot and increases time\n",
    "      # uses methods similar to the springs, but graphs it\n",
    "\n",
    "    def draw_frame(self, t):\n",
    "        \"\"\"\n",
    "        Draw frame for time t\n",
    "        \"\"\"\n",
    "\n",
    "        # evaluate solution at time t\n",
    "          # we might only need one x, y, and v - the old code\n",
    "          # had two x and two v because there were two masses\n",
    "        theta, thetaD = self.solution.sol(t)\n",
    "        x_d = 0\n",
    "        y_d = self.A*np.sin(self.w*t)\n",
    "        x_m = x_d + self.l*np.sin(theta)\n",
    "        y_m = y_d + self.l*np.cos(theta)\n",
    "#         x1 += 2.5\n",
    "#         x2 += 7.5\n",
    "#         x3 = 12 + self.D * np.sin(t * self.ω)\n",
    "\n",
    "        # With lines things are easy: just replace the data\n",
    "          # replaces data from existing theory\n",
    "        #make a line between the two relevant points, without overlapping the circles for mass or driver\n",
    "        self.lines[0].set_data((x_d + DRIVER_RADIUS*np.sin(theta), x_m - MASS_RADIUS*np.sin(theta)),\n",
    "                               (y_d + DRIVER_RADIUS*np.cos(theta), y_m - MASS_RADIUS*np.cos(theta))) \n",
    "\n",
    "        # For patches, we first remove them\n",
    "        # and then recreate them.\n",
    "        self.parts[1].remove()\n",
    "        self.parts[0].remove()\n",
    "        self.parts = []\n",
    "        \n",
    "        # need to remove elements one at a time or they don't get removed from the plot\n",
    "        p = Circle((x_m, y_m), radius=0.2, color='r')\n",
    "        self._ax.add_patch(p)\n",
    "        self.parts.append(p)\n",
    "\n",
    "        c = Circle((x_d, y_d), radius=0.1, color='g')\n",
    "        self.parts.append(c)\n",
    "        self._ax.add_patch(c)\n",
    "\n",
    "        # \n",
    "        title = self._ax.set_title(f\"t = {t:.2f}\", usetex=False)\n",
    "\n",
    "        # By returning the list of Artists that have changed,\n",
    "        # we speed up the animation\n",
    "        return self.parts, self.lines, title"
   ]
  },
  {
   "cell_type": "code",
   "execution_count": null,
   "metadata": {
    "scrolled": true
   },
   "outputs": [],
   "source": [
    "#RUNS OUR FIRST REAL TEST! :))\n",
    "\n",
    "# starting variable choices for this test:\n",
    "theta_0, thetaD_0 = 0.4, 0\n",
    "tRange = (0, 20) # a tuple in the form (t_0, t_f)\n",
    "\n",
    "#running the simulation with the above choices of starting variable\n",
    "Y0 = (theta_0, thetaD_0)\n",
    "firstTestPendulum = InvPend(theta=theta_0)\n",
    "firstTestPendulum.solve(Y0, tRange)"
   ]
  },
  {
   "cell_type": "code",
   "execution_count": null,
   "metadata": {
    "scrolled": true
   },
   "outputs": [],
   "source": [
    "#PLOTS OUR FIRST TEST\n",
    "\n",
    "numPlottedFrames = 2001 #number of points in our plot\n",
    "\n",
    "times = np.linspace(*tRange, numPlottedFrames)\n",
    "firstTestPendulum.plot(times, [\"theta\"\n",
    "                              # , \"thetaD\"\n",
    "                              ])"
   ]
  },
  {
   "cell_type": "code",
   "execution_count": null,
   "metadata": {
    "ExecuteTime": {
     "end_time": "2022-03-03T21:33:51.691562Z",
     "start_time": "2022-03-03T21:33:51.669526Z"
    }
   },
   "outputs": [],
   "source": [
    "# ANIMATES OUR FIRST TEST\n",
    "ANIMATE_360 = True\n",
    "anim = firstTestPendulum.animate(2000);"
   ]
  },
  {
   "cell_type": "code",
   "execution_count": null,
   "metadata": {},
   "outputs": [],
   "source": [
    "plt.close('all')"
   ]
  },
  {
   "cell_type": "markdown",
   "metadata": {},
   "source": [
    "Now, let's try non-driven pendulum to make sure everything is working as it should be."
   ]
  },
  {
   "cell_type": "code",
   "execution_count": null,
   "metadata": {
    "ExecuteTime": {
     "end_time": "2022-03-03T21:34:19.129691Z",
     "start_time": "2022-03-03T21:34:18.888449Z"
    }
   },
   "outputs": [],
   "source": [
    "#Second Test: Regular Pendulum\n",
    "\n",
    "# starting variable choices for this test:\n",
    "theta_0, thetaD_0 = np.pi-0.4, 0\n",
    "tRange = (0, 20)\n",
    "w, A = 0, 0\n",
    "\n",
    "#running the simulation with the above choices of starting variable\n",
    "Y0 = (theta_0, thetaD_0)\n",
    "RegularPendulum = InvPend(theta=theta_0, omega=w, A=A)\n",
    "RegularPendulum.solve(Y0, tRange)"
   ]
  },
  {
   "cell_type": "code",
   "execution_count": null,
   "metadata": {},
   "outputs": [],
   "source": [
    "#PLOTS OUR Driven Regular Pendulum\n",
    "\n",
    "numPlottedFrames = 2001 #number of points in our plot\n",
    "\n",
    "times = np.linspace(*tRange, numPlottedFrames)\n",
    "RegularPendulum.plot(times, [\"theta\"\n",
    "                             # , \"thetaD\"\n",
    "                            ])"
   ]
  },
  {
   "cell_type": "code",
   "execution_count": null,
   "metadata": {
    "scrolled": false
   },
   "outputs": [],
   "source": [
    "# ANIMATES OUR REGULAR PENDULUM TEST\n",
    "ANIMATE_360 = True\n",
    "anim = RegularPendulum.animate(200);"
   ]
  },
  {
   "cell_type": "markdown",
   "metadata": {},
   "source": [
    "What happens if we drive it in the right-side-up pendulum swing?\n",
    "\n",
    "**would want to experimentally find the angular frequency of the pendulum"
   ]
  },
  {
   "cell_type": "markdown",
   "metadata": {},
   "source": [
    "What happens if we drive it in the right-side-up pendulum swing?\n",
    "\n",
    "**would want to experimentally find the angular frequency of the pendulum"
   ]
  },
  {
   "cell_type": "code",
   "execution_count": null,
   "metadata": {
    "ExecuteTime": {
     "end_time": "2022-03-03T19:46:07.892105Z",
     "start_time": "2022-03-03T19:46:07.553261Z"
    },
    "tags": []
   },
   "outputs": [],
   "source": [
    "#Second Test: Driven Regular Pendulum\n",
    "\n",
    "# starting variable choices for this test:\n",
    "theta_0, thetaD_0 = np.pi-0.4, 0\n",
    "tRange = (0, 20)\n",
    "w, A = 50, 0.5\n",
    "\n",
    "#running the simulation with the above choices of starting variable\n",
    "Y0 = (theta_0, thetaD_0)\n",
    "DrivenRegularPendulum = InvPend(theta=theta_0, omega=w, A=A)\n",
    "DrivenRegularPendulum.solve(Y0, tRange)"
   ]
  },
  {
   "cell_type": "code",
   "execution_count": null,
   "metadata": {
    "scrolled": false
   },
   "outputs": [],
   "source": [
    "#PLOTS OUR Driven Regular Pendulum\n",
    "\n",
    "numPlottedFrames = 2001 #number of points in our plot\n",
    "\n",
    "times = np.linspace(*tRange, numPlottedFrames)\n",
    "DrivenRegularPendulum.plot(times, [\"theta\"\n",
    "                              # , \"thetaD\"\n",
    "                              ])"
   ]
  },
  {
   "cell_type": "markdown",
   "metadata": {},
   "source": [
    "notice the higher frequency! this is because the driving of the motor propels the mass toward equilibrium."
   ]
  },
  {
   "cell_type": "code",
   "execution_count": null,
   "metadata": {
    "scrolled": false
   },
   "outputs": [],
   "source": [
    "# ANIMATES OUR REGULAR PENDULUM TEST\n",
    "ANIMATE_360 = True\n",
    "anim = DrivenRegularPendulum.animate(200);"
   ]
  },
  {
   "cell_type": "code",
   "execution_count": null,
   "metadata": {
    "ExecuteTime": {
     "end_time": "2022-03-03T19:52:03.299362Z",
     "start_time": "2022-03-03T19:52:03.272808Z"
    },
    "tags": []
   },
   "outputs": [],
   "source": [
    "def find_amplitude_and_phase(**kwargs):\n",
    "    t_max = 49.750\n",
    "    sol = Carts(**kwargs)\n",
    "    sol.solve((0,0,0,0), (0, t_max))\n",
    "    # Now we need to extract the amplitude and phase for x1 and x2\n",
    "    # We can do that by restarting the solution using the end point as the initial condition\n",
    "    Y0 = sol(t_max)\n",
    "    period = 2 * np.pi / sol.ω\n",
    "    t_range = (t_max, t_max + 1.5 * period)\n",
    "    sol2 = Carts(**kwargs)\n",
    "    sol2.events = [lambda t, Y, args: Y[0], lambda t, Y, args: Y[2]]\n",
    "    sol2.solve(Y0, t_range)\n",
    "    t0 = period * np.floor(t_max / period)\n",
    "    try:\n",
    "        t1 = sol2.solution.t_events[0][0]\n",
    "    except:\n",
    "        print(sol2.solution)\n",
    "    def adjust_phase(ϕ):\n",
    "        two_pi = 2 * np.pi\n",
    "        while ϕ > 0: ϕ -= two_pi\n",
    "        while ϕ < -two_pi: ϕ += two_pi\n",
    "        return ϕ\n",
    "            \n",
    "    ϕ1 = (t0 - t1) * sol2.ω + (0 if sol2.solution.y_events[0][0,1] > 0 else np.pi)\n",
    "    A1 = np.abs(sol2(t1 + 0.25 * period)[0])\n",
    "    t2 = sol2.solution.t_events[1][0]\n",
    "    ϕ2 = (t0 - t2) * sol2.ω + (0 if sol2.solution.y_events[1][0,3] > 0 else np.pi)\n",
    "    A2 = np.abs(sol2(t2 + 0.25 * period)[2])\n",
    "    return (A1, adjust_phase(ϕ1), A2, adjust_phase(ϕ2))"
   ]
  },
  {
   "cell_type": "code",
   "execution_count": null,
   "metadata": {
    "ExecuteTime": {
     "end_time": "2022-03-03T19:52:04.748975Z",
     "start_time": "2022-03-03T19:52:04.090740Z"
    },
    "tags": []
   },
   "outputs": [],
   "source": [
    "find_amplitude_and_phase(Omega=1.4)"
   ]
  },
  {
   "cell_type": "code",
   "execution_count": null,
   "metadata": {
    "ExecuteTime": {
     "end_time": "2022-03-03T20:20:00.993345Z",
     "start_time": "2022-03-03T20:19:02.962854Z"
    },
    "tags": []
   },
   "outputs": [],
   "source": [
    "Omegas = 10**np.linspace(-1,1,101)\n",
    "results = np.array([find_amplitude_and_phase(Omega=x) for x in Omegas])"
   ]
  },
  {
   "cell_type": "code",
   "execution_count": null,
   "metadata": {
    "ExecuteTime": {
     "end_time": "2022-03-03T20:20:31.749972Z",
     "start_time": "2022-03-03T20:20:31.716865Z"
    },
    "tags": []
   },
   "outputs": [],
   "source": [
    "fig, axes = plt.subplots(1, 2, figsize=(12,4))\n",
    "amps, phases = axes\n",
    "amps.loglog(Omegas, results[:,0], label=r'$|A_1|$')\n",
    "amps.loglog(Omegas, results[:,2], label=r'$|A_2|$')\n",
    "amps.set_xlabel(r\"$\\omega/\\omega_0$\")\n",
    "amps.legend()\n",
    "amps.grid()\n",
    "phases.semilogx(Omegas, np.degrees(results[:,1]), label=r'$\\phi_1$')\n",
    "phases.semilogx(Omegas, np.degrees(results[:,3]), label=r'$\\phi_2$')\n",
    "phases.legend()\n",
    "phases.set_yticks(np.linspace(-360, 0, 5))\n",
    "phases.grid()\n",
    "phases.set_xlabel(r\"$\\omega/\\omega_0$\");"
   ]
  },
  {
   "cell_type": "markdown",
   "metadata": {
    "ExecuteTime": {
     "end_time": "2020-04-02T02:58:35.068614Z",
     "start_time": "2020-04-02T02:58:34.999612Z"
    }
   },
   "source": [
    "Very interesting! We see two resonance peaks in the motion of the two carts: one at $\\Omega = \\omega/\\omega_0 = 1$ and one at $\\Omega \\approx 1.7$. Let's zoom in a make a close-up plot of this interesting region."
   ]
  },
  {
   "cell_type": "code",
   "execution_count": null,
   "metadata": {
    "ExecuteTime": {
     "end_time": "2022-03-03T20:21:58.570891Z",
     "start_time": "2022-03-03T20:20:53.996475Z"
    },
    "tags": []
   },
   "outputs": [],
   "source": [
    "Omegas2 = np.linspace(0.8,2,101)\n",
    "results = np.array([find_amplitude_and_phase(Omega=x) for x in Omegas2])\n",
    "fig, axes = plt.subplots(2, 1, figsize=(8,8), sharex=True)\n",
    "amps, phases = axes\n",
    "amps.semilogy(Omegas2, results[:,0], label=r'$|A_1|$')\n",
    "amps.semilogy(Omegas2, results[:,2], label=r'$|A_2|$')\n",
    "amps.legend()\n",
    "phases.plot(Omegas2, np.degrees(results[:,1]), label=r'$\\phi_1$')\n",
    "phases.plot(Omegas2, np.degrees(results[:,3]), label=r'$\\phi_2$')\n",
    "phases.legend()\n",
    "phases.set_yticks(np.linspace(-360,0,5))\n",
    "phases.grid()\n",
    "phases.set_xlabel(r\"$\\omega/\\omega_0$\");"
   ]
  },
  {
   "cell_type": "markdown",
   "metadata": {
    "ExecuteTime": {
     "end_time": "2020-04-02T03:17:20.914107Z",
     "start_time": "2020-04-02T03:17:20.890152Z"
    }
   },
   "source": [
    "Can you explain this behavior?\n",
    "\n",
    "Other things to explore:\n",
    "- Can you calculate an analytic solution and compare it with the numerical results?\n",
    "- Does it matter which cart has the damper?\n",
    "- What does the phase plot tell us?\n",
    "- How does the mass ratio influence the plots?\n",
    "- ..."
   ]
  },
  {
   "cell_type": "markdown",
   "metadata": {},
   "source": [
    "# Animation\n",
    "\n",
    "Let’s see if we can't animate the motion of the carts. We will need to figure out how to show the two carts and drive. If we’re hard core, we may also figure out how to draw the springs. Rather than replacing the old class, I'll just define a new one here. Not sure why!"
   ]
  },
  {
   "cell_type": "code",
   "execution_count": null,
   "metadata": {
    "ExecuteTime": {
     "end_time": "2022-03-03T19:54:35.492046Z",
     "start_time": "2022-03-03T19:54:35.221497Z"
    },
    "execution": {
     "iopub.execute_input": "2022-03-03T19:15:29.589529Z",
     "iopub.status.busy": "2022-03-03T19:15:29.588895Z",
     "iopub.status.idle": "2022-03-03T19:15:29.899573Z",
     "shell.execute_reply": "2022-03-03T19:15:29.899304Z",
     "shell.execute_reply.started": "2022-03-03T19:15:29.589274Z"
    },
    "tags": []
   },
   "outputs": [],
   "source": [
    "csol = Carts(mu=1, Omega=2)\n",
    "csol.solve((0,0,0,0), (0, 10))\n",
    "tvals = np.linspace(0, 10, 400)\n",
    "csol.plot(tvals, ['x1', 'x2']);"
   ]
  },
  {
   "cell_type": "code",
   "execution_count": null,
   "metadata": {
    "ExecuteTime": {
     "end_time": "2022-03-03T19:54:41.747556Z",
     "start_time": "2022-03-03T19:54:41.713560Z"
    },
    "execution": {
     "iopub.execute_input": "2022-03-03T19:15:34.796544Z",
     "iopub.status.busy": "2022-03-03T19:15:34.796095Z",
     "iopub.status.idle": "2022-03-03T19:15:34.919184Z",
     "shell.execute_reply": "2022-03-03T19:15:34.918047Z",
     "shell.execute_reply.started": "2022-03-03T19:15:34.796517Z"
    },
    "tags": []
   },
   "outputs": [],
   "source": [
    "csol.animate(300, time_range=(0,10));"
   ]
  },
  {
   "cell_type": "code",
   "execution_count": null,
   "metadata": {
    "ExecuteTime": {
     "end_time": "2022-03-03T19:55:05.310818Z",
     "start_time": "2022-03-03T19:55:05.150264Z"
    },
    "tags": []
   },
   "outputs": [],
   "source": [
    "csol2 = Carts(mu=1, Omega=1.41).solve((0,0,0,0),(0, 10)).plot(np.linspace(0, 10, 400), ['x1', 'x2']);"
   ]
  },
  {
   "cell_type": "code",
   "execution_count": null,
   "metadata": {
    "ExecuteTime": {
     "end_time": "2022-03-03T19:55:14.475709Z",
     "start_time": "2022-03-03T19:55:14.453825Z"
    },
    "tags": []
   },
   "outputs": [],
   "source": [
    "plt.close('all')\n",
    "csol2.animate(300, time_range=(0, 10));"
   ]
  }
 ],
 "metadata": {
  "kernelspec": {
   "display_name": "Python 3",
   "language": "python",
   "name": "python3"
  },
  "language_info": {
   "codemirror_mode": {
    "name": "ipython",
    "version": 3
   },
   "file_extension": ".py",
   "mimetype": "text/x-python",
   "name": "python",
   "nbconvert_exporter": "python",
   "pygments_lexer": "ipython3",
   "version": "3.8.8"
  },
  "toc": {
   "base_numbering": 1,
   "nav_menu": {},
   "number_sections": true,
   "sideBar": true,
   "skip_h1_title": false,
   "title_cell": "Table of Contents",
   "title_sidebar": "Contents",
   "toc_cell": false,
   "toc_position": {},
   "toc_section_display": true,
   "toc_window_display": false
  }
 },
 "nbformat": 4,
 "nbformat_minor": 4
}
